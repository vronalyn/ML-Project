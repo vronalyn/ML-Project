{
 "cells": [
  {
   "cell_type": "markdown",
   "metadata": {},
   "source": [
    "## REGRESSION\n",
    "\n",
    "Train the regression dataset using various machine learning algorithms designed for regression. Evaluate and compare these models by applying different resampling techniques and utilizing appropriate performance metrics. \n",
    "\n",
    "Regression Dataset  \n",
    "- Dataset Name: Advertising Budget and Sales\n",
    "- Features: TV Ad Budget, Radio Ad Budget, Newspaper Ad, Budget, Sales\n"
   ]
  },
  {
   "cell_type": "markdown",
   "metadata": {},
   "source": [
    "### Set A \n",
    "- Resampling Technique: K-fold Cross Validation\n",
    "- Regression Metric: MAE (Mean Absolute Error)"
   ]
  },
  {
   "cell_type": "markdown",
   "metadata": {},
   "source": [
    "#### 1. CART (Classification and Regression Trees) - DecisionTree Regressor\n",
    "- Resampling Technique: K-fold Cross Validation\n",
    "- Regression Metric: MAE (Mean Absolute Error)"
   ]
  },
  {
   "cell_type": "code",
   "execution_count": 4,
   "metadata": {},
   "outputs": [
    {
     "name": "stdout",
     "output_type": "stream",
     "text": [
      "MAE: 0.855 (0.134)\n"
     ]
    }
   ],
   "source": [
    "#import libs\n",
    "from pandas import read_csv\n",
    "from sklearn.model_selection import KFold\n",
    "from sklearn.model_selection import cross_val_score\n",
    "from sklearn.tree import DecisionTreeRegressor\n",
    "\n",
    "# Load the dataset\n",
    "filename = 'MLproject/datasets/Advertising Budget and Sales.csv'\n",
    "dataframe = read_csv(filename)\n",
    "array = dataframe.values\n",
    "X = array[:, 0:3]\n",
    "Y = array[:, 3]\n",
    "\n",
    "# Split the dataset into a 10-fold cross-validation\n",
    "kfold = KFold(n_splits=10, random_state=None)\n",
    "\n",
    "# Train the data on a Decision Tree Regressor\n",
    "model = DecisionTreeRegressor(max_depth=None, min_samples_split=2, min_samples_leaf=1, random_state=None)\n",
    "# Hyperparameters:\n",
    "# - max_depth: The maximum depth of the decision tree. You can limit tree depth to prevent overfitting.\n",
    "# - min_samples_split: The minimum number of samples required to split an internal node. Adjust this to control node splitting.\n",
    "# - min_samples_leaf: The minimum number of samples required in a leaf node. You can adjust this to control leaf size.\n",
    "# - random_state: The random seed for reproducibility. Set this to a specific value for consistent results.\n",
    "\n",
    "# Calculate the mean absolute error\n",
    "scoring = 'neg_mean_absolute_error'\n",
    "cartresults = cross_val_score(model, X, Y, cv=kfold, scoring=scoring)\n",
    "print(\"MAE: %.3f (%.3f)\" % (-cartresults.mean(), cartresults.std()))"
   ]
  },
  {
   "cell_type": "markdown",
   "metadata": {},
   "source": [
    "#### 2. Elastic Net\n",
    "- Resampling Technique: K-fold Cross Validation\n",
    "- Regression Metric: MAE (Mean Absolute Error)"
   ]
  },
  {
   "cell_type": "code",
   "execution_count": 6,
   "metadata": {},
   "outputs": [
    {
     "name": "stdout",
     "output_type": "stream",
     "text": [
      "MAE: 1.299 (0.288)\n"
     ]
    }
   ],
   "source": [
    "from pandas import read_csv\n",
    "from sklearn.model_selection import KFold\n",
    "from sklearn.model_selection import cross_val_score\n",
    "from sklearn.linear_model import ElasticNet\n",
    "\n",
    "# Load the dataset\n",
    "filename = 'MLproject/datasets/Advertising Budget and Sales.csv'\n",
    "dataframe = read_csv(filename)\n",
    "array = dataframe.values\n",
    "X = array[:, 0:3]\n",
    "Y = array[:, 3]\n",
    "\n",
    "# Split the dataset into a 10-fold cross-validation\n",
    "kfold = KFold(n_splits=10, random_state=None)\n",
    "\n",
    "model = ElasticNet(alpha=1.0, l1_ratio=0.5, max_iter=1000, random_state=None)\n",
    "# Hyperparameters:\n",
    "# - alpha: The regularization parameter that controls the balance between L1 (Lasso) and L2 (Ridge) penalties. Adjust this to control the regularization strength.\n",
    "# - l1_ratio: The mixing parameter for L1 and L2 penalties. A value of 0 corresponds to L2, 1 to L1, and values in between to combinations.\n",
    "# - max_iter: The maximum number of iterations for the solver to converge. You can adjust this if the model does not converge.\n",
    "# - random_state: The random seed for reproducibility. Set this to a specific value for consistent results.\n",
    "\n",
    "# Calculate the mean absolute error\n",
    "scoring = 'neg_mean_absolute_error'\n",
    "e_results = cross_val_score(model, X, Y, cv=kfold, scoring=scoring)\n",
    "print(\"MAE: %.3f (%.3f)\" % (-e_results.mean(), e_results.std()))"
   ]
  },
  {
   "cell_type": "markdown",
   "metadata": {},
   "source": [
    "#### 3. Gradient Boosting Machines (AdaBoost)\n",
    "- Resampling Technique: K-fold Cross Validation\n",
    "- Regression Metric: MAE (Mean Absolute Error)"
   ]
  },
  {
   "cell_type": "code",
   "execution_count": 13,
   "metadata": {},
   "outputs": [
    {
     "name": "stdout",
     "output_type": "stream",
     "text": [
      "AdaBoost MAE: 0.823 (0.164)\n"
     ]
    }
   ],
   "source": [
    "from pandas import read_csv\n",
    "from sklearn.model_selection import KFold\n",
    "from sklearn.model_selection import cross_val_score\n",
    "from sklearn.ensemble import AdaBoostRegressor\n",
    "\n",
    "# Load the dataset\n",
    "filename = 'MLproject/datasets/Advertising Budget and Sales.csv'\n",
    "dataframe = read_csv(filename)\n",
    "array = dataframe.values\n",
    "X = array[:, 0:3]\n",
    "Y = array[:, 3]\n",
    "\n",
    "# Split the dataset into a 10-fold cross-validation\n",
    "kfold = KFold(n_splits=10, random_state=None)\n",
    "\n",
    "# Train the data on an AdaBoost Regressor\n",
    "ada_model = AdaBoostRegressor(n_estimators=50, learning_rate=1.0, random_state=None)\n",
    "# Hyperparameters:\n",
    "# - n_estimators: The number of weak regressors to combine in the ensemble. You can adjust this to control the complexity of the ensemble.\n",
    "# - learning_rate: The contribution of each weak regressor to the final prediction. You can adjust this to control the impact of individual estimators.\n",
    "# - random_state: The random seed for reproducibility. Set this to a specific value for consistent results.\n",
    "\n",
    "# Calculate the mean absolute error with AdaBoost\n",
    "scoring = 'neg_mean_absolute_error'\n",
    "ada_results = cross_val_score(ada_model, X, Y, cv=kfold, scoring=scoring)\n",
    "print(\"AdaBoost MAE: %.3f (%.3f)\" % (-ada_results.mean(), ada_results.std()))"
   ]
  },
  {
   "cell_type": "markdown",
   "metadata": {},
   "source": [
    "#### 4. K-Nearest Neighbors (K-NN)\n",
    "- Resampling Technique: K-fold Cross Validation\n",
    "- Regression Metric: MAE (Mean Absolute Error)"
   ]
  },
  {
   "cell_type": "code",
   "execution_count": 7,
   "metadata": {},
   "outputs": [
    {
     "name": "stdout",
     "output_type": "stream",
     "text": [
      "K-NN MAE: 1.049 (0.232)\n"
     ]
    }
   ],
   "source": [
    "from pandas import read_csv\n",
    "from sklearn.model_selection import KFold\n",
    "from sklearn.model_selection import cross_val_score\n",
    "from sklearn.neighbors import KNeighborsRegressor\n",
    "\n",
    "# Load the dataset\n",
    "filename = 'MLproject/datasets/Advertising Budget and Sales.csv'\n",
    "dataframe = read_csv(filename)\n",
    "array = dataframe.values\n",
    "X = array[:, 0:3]\n",
    "Y = array[:, 3]\n",
    "\n",
    "# Split the dataset into a 10-fold cross-validation\n",
    "kfold = KFold(n_splits=10, random_state=None)\n",
    "\n",
    "# Train the data on a K-Nearest Neighbors Regressor\n",
    "knn_model = KNeighborsRegressor(n_neighbors=5, weights='uniform', algorithm='auto')\n",
    "# Hyperparameters:\n",
    "# - n_neighbors: The number of nearest neighbors to consider when making predictions. You can adjust this to control the model's sensitivity to local patterns.\n",
    "# - weights: Determines how the neighbors' contributions are weighted (e.g., 'uniform' or 'distance'). You can choose the appropriate weighting strategy.\n",
    "# - algorithm: The algorithm used to compute the nearest neighbors ('auto', 'ball_tree', 'kd_tree', or 'brute'). You can choose the most suitable algorithm based on your data size and structure.\n",
    "\n",
    "# Calculate the mean absolute error with K-NN\n",
    "scoring = 'neg_mean_absolute_error'\n",
    "knn_results = cross_val_score(knn_model, X, Y, cv=kfold, scoring=scoring)\n",
    "print(\"K-NN MAE: %.3f (%.3f)\" % (-knn_results.mean(), knn_results.std()))\n"
   ]
  },
  {
   "cell_type": "markdown",
   "metadata": {},
   "source": [
    "#### 5. Lasso and Ridge Regression\n",
    "- Resampling Technique: K-fold Cross Validation\n",
    "- Regression Metric: MAE (Mean Absolute Error)"
   ]
  },
  {
   "cell_type": "code",
   "execution_count": 8,
   "metadata": {},
   "outputs": [
    {
     "name": "stdout",
     "output_type": "stream",
     "text": [
      "Lasso MAE: 1.298 (0.284)\n",
      "Ridge MAE: 1.302 (0.292)\n"
     ]
    }
   ],
   "source": [
    "from pandas import read_csv\n",
    "from sklearn.model_selection import KFold\n",
    "from sklearn.model_selection import cross_val_score\n",
    "from sklearn.linear_model import Lasso\n",
    "from sklearn.linear_model import Ridge\n",
    "\n",
    "# Load the dataset\n",
    "filename = 'MLproject/datasets/Advertising Budget and Sales.csv'\n",
    "dataframe = read_csv(filename)\n",
    "array = dataframe.values\n",
    "X = array[:, 0:3]\n",
    "Y = array[:, 3]\n",
    "\n",
    "# Split the dataset into a 10-fold cross-validation\n",
    "kfold = KFold(n_splits=10, random_state=None)\n",
    "\n",
    "# Train the data on a Lasso Regression model\n",
    "lasso_model = Lasso(alpha=1.0, max_iter=1000, random_state=None)\n",
    "# Hyperparameters for Lasso:\n",
    "# - alpha: The regularization parameter that controls the strength of L1 regularization. Adjust this to control the level of sparsity in the model.\n",
    "# - max_iter: The maximum number of iterations for the solver to converge. You can adjust this if the model does not converge.\n",
    "# - random_state: The random seed for reproducibility. Set this to a specific value for consistent results.\n",
    "\n",
    "# Calculate the mean absolute error with Lasso\n",
    "scoring = 'neg_mean_absolute_error'\n",
    "lasso_results = cross_val_score(lasso_model, X, Y, cv=kfold, scoring=scoring)\n",
    "print(\"Lasso MAE: %.3f (%.3f)\" % (-lasso_results.mean(), lasso_results.std()))\n",
    "\n",
    "# Train the data on a Ridge Regression model\n",
    "ridge_model = Ridge(alpha=1.0, max_iter=1000, random_state=None)\n",
    "# Hyperparameters for Ridge:\n",
    "# - alpha: The regularization parameter that controls the strength of L2 regularization. Adjust this to control the strength of regularization.\n",
    "# - max_iter: The maximum number of iterations for the solver to converge. You can adjust this if the model does not converge.\n",
    "# - random_state: The random seed for reproducibility. Set this to a specific value for consistent results.\n",
    "\n",
    "# Calculate the mean absolute error with Ridge\n",
    "ridge_results = cross_val_score(ridge_model, X, Y, cv=kfold, scoring=scoring)\n",
    "print(\"Ridge MAE: %.3f (%.3f)\" % (-ridge_results.mean(), ridge_results.std()))"
   ]
  },
  {
   "cell_type": "markdown",
   "metadata": {},
   "source": [
    "#### 6. Linear Regression\n",
    "- Resampling Technique: K-fold Cross Validation\n",
    "- Regression Metric: MAE (Mean Absolute Error)"
   ]
  },
  {
   "cell_type": "code",
   "execution_count": 17,
   "metadata": {},
   "outputs": [
    {
     "name": "stdout",
     "output_type": "stream",
     "text": [
      "MAE: 1.302 (0.292)\n"
     ]
    }
   ],
   "source": [
    "from pandas import read_csv\n",
    "from sklearn.model_selection import KFold\n",
    "from sklearn.model_selection import cross_val_score\n",
    "from sklearn.linear_model import LinearRegression\n",
    "\n",
    "# Load the dataset\n",
    "filename = 'MLproject/datasets/Advertising Budget and Sales.csv'\n",
    "dataframe = read_csv(filename)\n",
    "array = dataframe.values\n",
    "X = array[:, 0:3]\n",
    "Y = array[:, 3]\n",
    "\n",
    "# Split the dataset into a 10-fold cross-validation\n",
    "kfold = KFold(n_splits=10, random_state=None)\n",
    "\n",
    "# Train the data on a Linear Regression model\n",
    "model = LinearRegression()\n",
    "\n",
    "# Calculate the mean absolute error\n",
    "scoring = 'neg_mean_absolute_error'\n",
    "results = cross_val_score(model, X, Y, cv=kfold, scoring=scoring)\n",
    "print(\"MAE: %.3f (%.3f)\" % (-results.mean(), results.std()))"
   ]
  },
  {
   "cell_type": "markdown",
   "metadata": {},
   "source": [
    "#### 7. Multi-Layer Perceptron (MLP)\n",
    "- Resampling Technique: K-fold Cross Validation\n",
    "- Regression Metric: MAE (Mean Absolute Error)"
   ]
  },
  {
   "cell_type": "code",
   "execution_count": 24,
   "metadata": {},
   "outputs": [
    {
     "name": "stdout",
     "output_type": "stream",
     "text": [
      "MLP MAE: 0.478 (0.108)\n"
     ]
    }
   ],
   "source": [
    "from pandas import read_csv\n",
    "from sklearn.model_selection import KFold\n",
    "from sklearn.model_selection import cross_val_score\n",
    "from sklearn.neural_network import MLPRegressor\n",
    "\n",
    "# Load the dataset\n",
    "filename = 'MLproject/datasets/Advertising Budget and Sales.csv'\n",
    "dataframe = read_csv(filename)\n",
    "array = dataframe.values\n",
    "X = array[:, 0:3]\n",
    "Y = array[:, 3]\n",
    "\n",
    "# Split the dataset into a 10-fold cross-validation\n",
    "kfold = KFold(n_splits=10, random_state=None)\n",
    "\n",
    "# Train the data on an MLP Regressor with specified hyperparameters\n",
    "mlp_model = MLPRegressor(\n",
    "    hidden_layer_sizes=(100, 50),  # Hyperparameter: Adjust the architecture as needed, specifying the number and size of hidden layers.\n",
    "    activation='relu',             # Hyperparameter: Choose an appropriate activation function ('identity', 'logistic', 'tanh', 'relu', etc.).\n",
    "    solver='adam',                # Hyperparameter: Choose an optimization algorithm ('adam', 'lbfgs', 'sgd', etc.).\n",
    "    learning_rate='constant',     # Hyperparameter: Choose a learning rate schedule ('constant', 'invscaling', 'adaptive').\n",
    "    max_iter=1000,                # Hyperparameter: Adjust the maximum number of iterations for training.\n",
    "    random_state=50               # Hyperparameter: Set a random seed for reproducibility.\n",
    ")\n",
    "\n",
    "# Calculate the mean absolute error with MLP\n",
    "scoring = 'neg_mean_absolute_error'\n",
    "mlp_results = cross_val_score(mlp_model, X, Y, cv=kfold, scoring=scoring)\n",
    "print(\"MLP MAE: %.3f (%.3f)\" % (-mlp_results.mean(), mlp_results.std()))"
   ]
  },
  {
   "cell_type": "markdown",
   "metadata": {},
   "source": [
    "#### 8. Random Forest\n",
    "- Resampling Technique: K-fold Cross Validation\n",
    "- Regression Metric: MAE (Mean Absolute Error)"
   ]
  },
  {
   "cell_type": "code",
   "execution_count": 15,
   "metadata": {},
   "outputs": [
    {
     "name": "stdout",
     "output_type": "stream",
     "text": [
      "Random Forest MAE: 0.573 (0.069)\n"
     ]
    }
   ],
   "source": [
    "from pandas import read_csv\n",
    "from sklearn.model_selection import KFold\n",
    "from sklearn.model_selection import cross_val_score\n",
    "from sklearn.ensemble import RandomForestRegressor\n",
    "\n",
    "# Load the dataset\n",
    "filename = 'MLproject/datasets/Advertising Budget and Sales.csv'\n",
    "dataframe = read_csv(filename)\n",
    "array = dataframe.values\n",
    "X = array[:, 0:3]\n",
    "Y = array[:, 3]\n",
    "\n",
    "# Split the dataset into a 10-fold cross-validation\n",
    "kfold = KFold(n_splits=10, random_state=None)\n",
    "\n",
    "# Train the data on a Random Forest Regressor with specified hyperparameters\n",
    "rf_model = RandomForestRegressor(\n",
    "    n_estimators=100,       # Hyperparameter: The number of trees in the forest. You can adjust this for ensemble size.\n",
    "    max_depth=None,         # Hyperparameter: The maximum depth of each tree. Adjust to control tree depth.\n",
    "    min_samples_split=2,    # Hyperparameter: The minimum number of samples required to split an internal node. Adjust to control node splitting.\n",
    "    min_samples_leaf=1,     # Hyperparameter: The minimum number of samples required in a leaf node. Adjust to control leaf size.\n",
    "    random_state=42         # Hyperparameter: Set a random seed for reproducibility.\n",
    ")\n",
    "\n",
    "# Calculate the mean absolute error with Random Forest\n",
    "scoring = 'neg_mean_absolute_error'\n",
    "rf_results = cross_val_score(rf_model, X, Y, cv=kfold, scoring=scoring)\n",
    "print(\"Random Forest MAE: %.3f (%.3f)\" % (-rf_results.mean(), rf_results.std()))"
   ]
  },
  {
   "cell_type": "markdown",
   "metadata": {},
   "source": [
    "### Models Comparison (Visualization)"
   ]
  },
  {
   "cell_type": "code",
   "execution_count": 18,
   "metadata": {},
   "outputs": [
    {
     "data": {
      "image/png": "[encoded data removed]",
      "text/plain": [
       "<Figure size 1000x600 with 1 Axes>"
      ]
     },
     "metadata": {},
     "output_type": "display_data"
    }
   ],
   "source": [
    "import matplotlib.pyplot as plt\n",
    "\n",
    "mae_results = [abs(cartresults.mean()), \n",
    "               abs(e_results.mean()), \n",
    "               abs(ada_results.mean()), \n",
    "               abs(knn_results.mean()), \n",
    "               abs(lasso_results.mean()), \n",
    "               abs(ridge_results.mean()), \n",
    "               abs(results.mean()), \n",
    "               abs(mlp_results.mean()), \n",
    "               abs(rf_results.mean())]\n",
    "model_names = [\n",
    "    \"CART (Classification and Regression Trees)\",\n",
    "    \"Elastic Net\",\n",
    "    \"Gradient Boosting Machines (AdaBoost)\",\n",
    "    \"K-Nearest Neighbors (K-NN)\",\n",
    "    \"Lasso Regression\",\n",
    "    \"Ridge Regression\",\n",
    "    \"Linear Regression\",\n",
    "    \"Multi-Layer Perceptron (MLP)\",\n",
    "    \"Random Forest\"\n",
    "]\n",
    "\n",
    "# Create a bar chart to visualize MAE results\n",
    "plt.figure(figsize=(10, 6))\n",
    "plt.bar(model_names, mae_results, color='skyblue')\n",
    "plt.xlabel('Machine Learning Models')\n",
    "plt.ylabel('Mean Absolute Error (MAE)')\n",
    "plt.title('MAE Comparison of Different Models')\n",
    "plt.xticks(rotation=45, ha='right')\n",
    "\n",
    "# Show the bar chart\n",
    "plt.tight_layout()\n",
    "plt.show()"
   ]
  },
  {
   "cell_type": "code",
   "execution_count": 34,
   "metadata": {},
   "outputs": [
    {
     "name": "stdout",
     "output_type": "stream",
     "text": [
      "Decision Tree MAE: 0.715\n",
      "Elastic Net MAE: 1.190\n",
      "Gradient Boosting MAE: 0.500\n",
      "KNN MAE: 0.753\n",
      "Lasso Regression MAE: 1.187\n",
      "Ridge Regression MAE: 1.196\n",
      "Linear Regression MAE: 1.196\n"
     ]
    },
    {
     "name": "stderr",
     "output_type": "stream",
     "text": [
      "c:\\Users\\Ronalyn Villamor\\AppData\\Local\\Programs\\Python\\Python312\\Lib\\site-packages\\sklearn\\neural_network\\_multilayer_perceptron.py:691: ConvergenceWarning: Stochastic Optimizer: Maximum iterations (200) reached and the optimization hasn't converged yet.\n",
      "  warnings.warn(\n"
     ]
    },
    {
     "name": "stdout",
     "output_type": "stream",
     "text": [
      "MLP MAE: 1.350\n",
      "Random Forest MAE: 0.557\n"
     ]
    }
   ],
   "source": [
    "from sklearn.model_selection import train_test_split\n",
    "from sklearn.tree import DecisionTreeRegressor\n",
    "from sklearn.linear_model import ElasticNet, Lasso, Ridge, LinearRegression\n",
    "from sklearn.ensemble import GradientBoostingRegressor, RandomForestRegressor\n",
    "from sklearn.neighbors import KNeighborsRegressor\n",
    "from sklearn.neural_network import MLPRegressor\n",
    "from sklearn.metrics import mean_absolute_error\n",
    "\n",
    "# Selecting features and target variable\n",
    "X = dataframe[['TV_Ad_Budget', 'Radio_Ad_Budget', 'Newspaper_Ad_Budget']]\n",
    "y = dataframe['Sales']\n",
    "\n",
    "# Split the data into training and testing sets\n",
    "size = 0.10\n",
    "seed = 123\n",
    "X_train, X_test, y_train, y_test = train_test_split(X, y, test_size=size, random_state=seed)\n",
    "\n",
    "# Decision Tree Regression\n",
    "dt_regressor = DecisionTreeRegressor()\n",
    "dt_regressor.fit(X_train, y_train)\n",
    "dt_y_pred = dt_regressor.predict(X_test)\n",
    "dt_mae = mean_absolute_error(y_test, dt_y_pred)\n",
    "print(f\"Decision Tree MAE: {dt_mae:.3f}\")\n",
    "\n",
    "# Elastic Net Regression\n",
    "elastic_net = ElasticNet()\n",
    "elastic_net.fit(X_train, y_train)\n",
    "elastic_net_y_pred = elastic_net.predict(X_test)\n",
    "elastic_net_mae = mean_absolute_error(y_test, elastic_net_y_pred)\n",
    "print(f\"Elastic Net MAE: {elastic_net_mae:.3f}\")\n",
    "\n",
    "# Gradient Boosting Regression\n",
    "gb_regressor = GradientBoostingRegressor()\n",
    "gb_regressor.fit(X_train, y_train)\n",
    "gb_y_pred = gb_regressor.predict(X_test)\n",
    "gb_mae = mean_absolute_error(y_test, gb_y_pred)\n",
    "print(f\"Gradient Boosting MAE: {gb_mae:.3f}\")\n",
    "\n",
    "# K-Nearest Neighbors Regression\n",
    "knn_regressor = KNeighborsRegressor()\n",
    "knn_regressor.fit(X_train, y_train)\n",
    "knn_y_pred = knn_regressor.predict(X_test)\n",
    "knn_mae = mean_absolute_error(y_test, knn_y_pred)\n",
    "print(f\"KNN MAE: {knn_mae:.3f}\")\n",
    "\n",
    "# Lasso Regression\n",
    "lasso_regressor = Lasso()\n",
    "lasso_regressor.fit(X_train, y_train)\n",
    "lasso_y_pred = lasso_regressor.predict(X_test)\n",
    "lasso_mae = mean_absolute_error(y_test, lasso_y_pred)\n",
    "print(f\"Lasso Regression MAE: {lasso_mae:.3f}\")\n",
    "\n",
    "# Ridge Regression\n",
    "ridge_regressor = Ridge()\n",
    "ridge_regressor.fit(X_train, y_train)\n",
    "ridge_y_pred = ridge_regressor.predict(X_test)\n",
    "ridge_mae = mean_absolute_error(y_test, ridge_y_pred)\n",
    "print(f\"Ridge Regression MAE: {ridge_mae:.3f}\")\n",
    "\n",
    "# Linear Regression\n",
    "linear_regressor = LinearRegression()\n",
    "linear_regressor.fit(X_train, y_train)\n",
    "linear_y_pred = linear_regressor.predict(X_test)\n",
    "linear_mae = mean_absolute_error(y_test, linear_y_pred)\n",
    "print(f\"Linear Regression MAE: {linear_mae:.3f}\")\n",
    "\n",
    "# MLP Regression\n",
    "mlp_regressor = MLPRegressor(hidden_layer_sizes=(65, 32), activation='relu', solver='adam', max_iter=200, random_state=seed)\n",
    "mlp_regressor.fit(X_train, y_train)\n",
    "mlp_y_pred = mlp_regressor.predict(X_test)\n",
    "mlp_mae = mean_absolute_error(y_test, mlp_y_pred)\n",
    "print(f\"MLP MAE: {mlp_mae:.3f}\")\n",
    "\n",
    "# Random Forest Regression\n",
    "rf_regressor = RandomForestRegressor()\n",
    "rf_regressor.fit(X_train, y_train)\n",
    "rf_y_pred = rf_regressor.predict(X_test)\n",
    "rf_mae = mean_absolute_error(y_test, rf_y_pred)\n",
    "print(f\"Random Forest MAE: {rf_mae:.3f}\")\n"
   ]
  },
  {
   "cell_type": "code",
   "execution_count": 35,
   "metadata": {},
   "outputs": [
    {
     "data": {
      "image/png": "[encoded data removed]",
      "text/plain": [
       "<Figure size 1000x600 with 1 Axes>"
      ]
     },
     "metadata": {},
     "output_type": "display_data"
    }
   ],
   "source": [
    "import seaborn as sns\n",
    "# List of model names\n",
    "model_names = [\n",
    "    \"CART (Classification and Regression Trees)\",\n",
    "    \"Elastic Net\",\n",
    "    \"Gradient Boosting Machines (AdaBoost)\",\n",
    "    \"K-Nearest Neighbors (K-NN)\",\n",
    "    \"Lasso Regression\",\n",
    "    \"Ridge Regression\",\n",
    "    \"Linear Regression\",\n",
    "    \"Multi-Layer Perceptron (MLP)\",\n",
    "    \"Random Forest\"\n",
    "]\n",
    "\n",
    "# List of accuracy scores corresponding to each model name\n",
    "MAE_scores = [\n",
    "    dt_mae,\n",
    "    elastic_net_mae,\n",
    "    gb_mae,\n",
    "    knn_mae,\n",
    "    lasso_mae,\n",
    "    ridge_mae,\n",
    "    linear_mae,\n",
    "    mlp_mae,\n",
    "    rf_mae\n",
    "]\n",
    "\n",
    "sns.set(style=\"whitegrid\")\n",
    "plt.figure(figsize=(10, 6))\n",
    "ax = sns.barplot(x=MAE_scores, y=model_names, hue=model_names, palette=\"viridis\", dodge=False, legend=False)\n",
    "ax.set_title('Comparison of Different Models')\n",
    "ax.set_xlabel('MAE Scores')\n",
    "ax.set_ylabel('Model')\n",
    "plt.show()"
   ]
  },
  {
   "cell_type": "code",
   "execution_count": 36,
   "metadata": {},
   "outputs": [],
   "source": [
    "import joblib\n",
    "import pandas as pd"
   ]
  },
  {
   "cell_type": "code",
   "execution_count": 37,
   "metadata": {},
   "outputs": [
    {
     "data": {
      "text/plain": [
       "['MLproject/datasets/models/gb_regressor.pkl']"
      ]
     },
     "execution_count": 37,
     "metadata": {},
     "output_type": "execute_result"
    }
   ],
   "source": [
    "model_filename = 'MLproject/datasets/models/gb_regressor.pkl'\n",
    "joblib.dump(gb_regressor, model_filename)"
   ]
  },
  {
   "cell_type": "code",
   "execution_count": 41,
   "metadata": {},
   "outputs": [
    {
     "name": "stdout",
     "output_type": "stream",
     "text": [
      "Predicted Sales:\n",
      "[13.3990482]\n"
     ]
    }
   ],
   "source": [
    "# Load the trained MLP model from the file\n",
    "loaded_model = joblib.load(model_filename)\n",
    "\n",
    "feature_names = ['TV_Ad_Budget', 'Radio_Ad_Budget', 'Newspaper_Ad_Budget']\n",
    "new_data = pd.DataFrame([[232.1, 8.6, 8.7]],columns=feature_names)\n",
    "\n",
    "# Make predictions using the loaded model on the new data\n",
    "predicted_sales = loaded_model.predict(new_data)\n",
    "\n",
    "# Display the predicted sales\n",
    "print(\"Predicted Sales:\")\n",
    "print(predicted_sales)"
   ]
  },
  {
   "cell_type": "markdown",
   "metadata": {},
   "source": [
    "### Set B \n",
    "- Resampling Technique: Split into Train and Test Sets \n",
    "- Regression Metric:  MSE (Mean Squared Error)"
   ]
  },
  {
   "cell_type": "markdown",
   "metadata": {},
   "source": [
    "#### 1. CART (Classification and Regression Trees) - DecisionTree Regressor\n",
    "- Resampling Technique: Split into Train and Test Sets \n",
    "- Regression Metric:  MSE (Mean Squared Error)"
   ]
  },
  {
   "cell_type": "code",
   "execution_count": 25,
   "metadata": {},
   "outputs": [
    {
     "name": "stdout",
     "output_type": "stream",
     "text": [
      "MSE: 2.313\n"
     ]
    }
   ],
   "source": [
    "from pandas import read_csv\n",
    "from sklearn.model_selection import train_test_split\n",
    "from sklearn.tree import DecisionTreeRegressor\n",
    "from sklearn.metrics import mean_squared_error\n",
    "\n",
    "# Load the dataset\n",
    "filename = 'Advertising Budget and Sales.csv'\n",
    "dataframe = read_csv(filename)\n",
    "array = dataframe.values\n",
    "X = array[:, 0:4]\n",
    "Y = array[:, 4]\n",
    "\n",
    "# Split the dataset into an 80:20 train-test split\n",
    "test_size = 0.2\n",
    "seed = 42  # Random seed for reproducibility\n",
    "X_train, X_test, Y_train, Y_test = train_test_split(X, Y, test_size=test_size, random_state=seed)\n",
    "\n",
    "model = DecisionTreeRegressor(max_depth=None, min_samples_split=2, min_samples_leaf=1, random_state=None)\n",
    "model.fit(X_train, Y_train)\n",
    "\n",
    "# Make predictions on the test data\n",
    "Y_pred = model.predict(X_test)\n",
    "# Calculate the mean squared error on the test set\n",
    "mse = mean_squared_error(Y_test, Y_pred)\n",
    "print(\"MSE: %.3f\" % mse)"
   ]
  },
  {
   "cell_type": "markdown",
   "metadata": {},
   "source": [
    "#### 2. Elastic Net \n",
    "- Resampling Technique: Split into Train and Test Sets \n",
    "- Regression Metric:  MSE (Mean Squared Error)"
   ]
  },
  {
   "cell_type": "code",
   "execution_count": 26,
   "metadata": {},
   "outputs": [
    {
     "name": "stdout",
     "output_type": "stream",
     "text": [
      "MSE: 3.174\n"
     ]
    }
   ],
   "source": [
    "from pandas import read_csv\n",
    "from sklearn.model_selection import train_test_split\n",
    "from sklearn.linear_model import ElasticNet\n",
    "from sklearn.metrics import mean_squared_error\n",
    "\n",
    "# Load the dataset\n",
    "filename = 'Advertising Budget and Sales.csv'\n",
    "dataframe = read_csv(filename)\n",
    "array = dataframe.values\n",
    "X = array[:, 0:4]\n",
    "Y = array[:, 4]\n",
    "\n",
    "# Split the dataset into an 80:20 train-test split\n",
    "test_size = 0.2\n",
    "seed = 42  # Random seed for reproducibility\n",
    "X_train, X_test, Y_train, Y_test = train_test_split(X, Y, test_size=test_size, random_state=seed)\n",
    "\n",
    "enmodel = ElasticNet(alpha=1.0, l1_ratio=0.5, max_iter=1000, random_state=None)\n",
    "enmodel.fit(X_train, Y_train)\n",
    "\n",
    "# Make predictions on the test data\n",
    "Y_pred = enmodel.predict(X_test)\n",
    "\n",
    "# Calculate the mean squared error on the test set\n",
    "en_mse = mean_squared_error(Y_test, Y_pred)\n",
    "print(\"MSE: %.3f\" % en_mse)"
   ]
  },
  {
   "cell_type": "markdown",
   "metadata": {},
   "source": [
    "#### 3. Gradient Boosting Machines (AdaBoost)\n",
    "- Resampling Technique: Split into Train and Test Sets \n",
    "- Regression Metric:  MSE (Mean Squared Error)"
   ]
  },
  {
   "cell_type": "code",
   "execution_count": 27,
   "metadata": {},
   "outputs": [
    {
     "name": "stdout",
     "output_type": "stream",
     "text": [
      "MSE: 0.689\n"
     ]
    }
   ],
   "source": [
    "from pandas import read_csv\n",
    "from sklearn.model_selection import train_test_split\n",
    "from sklearn.ensemble import AdaBoostRegressor\n",
    "from sklearn.metrics import mean_squared_error\n",
    "\n",
    "# Load the dataset\n",
    "filename = 'Advertising Budget and Sales.csv'\n",
    "dataframe = read_csv(filename)\n",
    "array = dataframe.values\n",
    "X = array[:, 0:4]\n",
    "Y = array[:, 4]\n",
    "\n",
    "# Split the dataset into an 80:20 train-test split\n",
    "test_size = 0.2\n",
    "seed = 42  # Random seed for reproducibility\n",
    "X_train, X_test, Y_train, Y_test = train_test_split(X, Y, test_size=test_size, random_state=seed)\n",
    "\n",
    "base_regressor = DecisionTreeRegressor(max_depth=5)\n",
    "\n",
    "# Create an AdaBoost regressor with the base decision tree regressor\n",
    "adamodel = AdaBoostRegressor(base_regressor, n_estimators=50, learning_rate=1.0, random_state=None)\n",
    "\n",
    "# Fit the model on the training data\n",
    "adamodel.fit(X_train, Y_train)\n",
    "\n",
    "# Make predictions on the test data\n",
    "Y_pred = adamodel.predict(X_test)\n",
    "\n",
    "# Calculate the mean squared error on the test set\n",
    "ada_mse = mean_squared_error(Y_test, Y_pred)\n",
    "print(\"MSE: %.3f\" % ada_mse)"
   ]
  },
  {
   "cell_type": "markdown",
   "metadata": {},
   "source": [
    "#### 4. K-Nearest Neighbors (K-NN)\n",
    "- Resampling Technique: Split into Train and Test Sets \n",
    "- Regression Metric:  MSE (Mean Squared Error)"
   ]
  },
  {
   "cell_type": "code",
   "execution_count": 28,
   "metadata": {},
   "outputs": [
    {
     "name": "stdout",
     "output_type": "stream",
     "text": [
      "MSE: 5.279\n"
     ]
    }
   ],
   "source": [
    "from pandas import read_csv\n",
    "from sklearn.model_selection import train_test_split\n",
    "from sklearn.neighbors import KNeighborsRegressor\n",
    "from sklearn.metrics import mean_squared_error\n",
    "\n",
    "# Load the dataset\n",
    "filename = 'Advertising Budget and Sales.csv'\n",
    "dataframe = read_csv(filename)\n",
    "array = dataframe.values\n",
    "X = array[:, 0:4]\n",
    "Y = array[:, 4]\n",
    "\n",
    "# Split the dataset into an 80:20 train-test split\n",
    "test_size = 0.2\n",
    "seed = 42  # Random seed for reproducibility\n",
    "X_train, X_test, Y_train, Y_test = train_test_split(X, Y, test_size=test_size, random_state=seed)\n",
    "\n",
    "k = 5  \n",
    "knn_model = KNeighborsRegressor(n_neighbors=k)\n",
    "knn_model.fit(X_train, Y_train)\n",
    "\n",
    "# Make predictions on the test data\n",
    "Y_pred = knn_model.predict(X_test)\n",
    "\n",
    "# Calculate the mean squared error on the test set\n",
    "knn_mse = mean_squared_error(Y_test, Y_pred)\n",
    "print(\"MSE: %.3f\" % knn_mse)"
   ]
  },
  {
   "cell_type": "markdown",
   "metadata": {},
   "source": [
    "#### 5. Lasso Regression\n",
    "- Resampling Technique: Split into Train and Test Sets \n",
    "- Regression Metric:  MSE (Mean Squared Error)"
   ]
  },
  {
   "cell_type": "code",
   "execution_count": 29,
   "metadata": {},
   "outputs": [
    {
     "name": "stdout",
     "output_type": "stream",
     "text": [
      "MSE: 3.198\n"
     ]
    }
   ],
   "source": [
    "from pandas import read_csv\n",
    "from sklearn.model_selection import train_test_split\n",
    "from sklearn.linear_model import Lasso\n",
    "from sklearn.metrics import mean_squared_error\n",
    "\n",
    "# Load the dataset\n",
    "filename = 'Advertising Budget and Sales.csv'\n",
    "dataframe = read_csv(filename)\n",
    "array = dataframe.values\n",
    "X = array[:, 0:4]\n",
    "Y = array[:, 4]\n",
    "\n",
    "# Split the dataset into an 80:20 train-test split\n",
    "test_size = 0.2\n",
    "seed = 42  # Random seed for reproducibility\n",
    "X_train, X_test, Y_train, Y_test = train_test_split(X, Y, test_size=test_size, random_state=seed)\n",
    "\n",
    "alpha = 0.01\n",
    "lasso_model = Lasso(alpha=alpha)\n",
    "lasso_model.fit(X_train, Y_train)\n",
    "\n",
    "# Make predictions on the test data\n",
    "Y_pred = lasso_model.predict(X_test)\n",
    "\n",
    "# Calculate the mean squared error on the test set\n",
    "lasso_mse = mean_squared_error(Y_test, Y_pred)\n",
    "print(\"MSE: %.3f\" % lasso_mse)"
   ]
  },
  {
   "cell_type": "markdown",
   "metadata": {},
   "source": [
    "#### 6. Ridge Regression\n",
    "- Resampling Technique: Split into Train and Test Sets \n",
    "- Regression Metric:  MSE (Mean Squared Error)"
   ]
  },
  {
   "cell_type": "code",
   "execution_count": 30,
   "metadata": {},
   "outputs": [
    {
     "name": "stdout",
     "output_type": "stream",
     "text": [
      "MSE: 3.199\n"
     ]
    }
   ],
   "source": [
    "from pandas import read_csv\n",
    "from sklearn.model_selection import train_test_split\n",
    "from sklearn.linear_model import Ridge\n",
    "from sklearn.metrics import mean_squared_error\n",
    "\n",
    "# Load the dataset\n",
    "filename = 'Advertising Budget and Sales.csv'\n",
    "dataframe = read_csv(filename)\n",
    "array = dataframe.values\n",
    "X = array[:, 0:4]\n",
    "Y = array[:, 4]\n",
    "\n",
    "# Split the dataset into an 80:20 train-test split\n",
    "test_size = 0.2\n",
    "seed = 42  # Random seed for reproducibility\n",
    "X_train, X_test, Y_train, Y_test = train_test_split(X, Y, test_size=test_size, random_state=seed)\n",
    "\n",
    "alpha = 1.0  # You can adjust the regularization strength (alpha) as needed\n",
    "ridge_model = Ridge(alpha=alpha)\n",
    "ridge_model.fit(X_train, Y_train)\n",
    "\n",
    "# Make predictions on the test data\n",
    "Y_pred = ridge_model.predict(X_test)\n",
    "\n",
    "# Calculate the mean squared error on the test set\n",
    "rdg_mse = mean_squared_error(Y_test, Y_pred)\n",
    "print(\"MSE: %.3f\" % rdg_mse)"
   ]
  },
  {
   "cell_type": "markdown",
   "metadata": {},
   "source": [
    "#### 7. Linear Regression\n",
    "- Resampling Technique: Split into Train and Test Sets \n",
    "- Regression Metric:  MSE (Mean Squared Error)"
   ]
  },
  {
   "cell_type": "code",
   "execution_count": 31,
   "metadata": {},
   "outputs": [
    {
     "name": "stdout",
     "output_type": "stream",
     "text": [
      "MSE: 3.199\n"
     ]
    }
   ],
   "source": [
    "from pandas import read_csv\n",
    "from sklearn.model_selection import train_test_split\n",
    "from sklearn.linear_model import LinearRegression\n",
    "from sklearn.metrics import mean_squared_error\n",
    "\n",
    "# Load the dataset\n",
    "filename = 'Advertising Budget and Sales.csv'\n",
    "dataframe = read_csv(filename)\n",
    "array = dataframe.values\n",
    "X = array[:, 0:4]\n",
    "Y = array[:, 4]\n",
    "\n",
    "# Split the dataset into an 80:20 train-test split\n",
    "test_size = 0.2\n",
    "seed = 42  # Random seed for reproducibility\n",
    "X_train, X_test, Y_train, Y_test = train_test_split(X, Y, test_size=test_size, random_state=seed)\n",
    "\n",
    "# Train the data on a Linear Regression model\n",
    "linear_model = LinearRegression()\n",
    "linear_model.fit(X_train, Y_train)\n",
    "\n",
    "# Make predictions on the test data\n",
    "Y_pred = linear_model.predict(X_test)\n",
    "\n",
    "# Calculate the mean squared error on the test set\n",
    "linear_mse = mean_squared_error(Y_test, Y_pred)\n",
    "print(\"MSE: %.3f\" % linear_mse)"
   ]
  },
  {
   "cell_type": "markdown",
   "metadata": {},
   "source": [
    "#### 8. Multi-Layer Perception (MLP)\n",
    "- Resampling Technique: Split into Train and Test Sets \n",
    "- Regression Metric:  MSE (Mean Squared Error)"
   ]
  },
  {
   "cell_type": "code",
   "execution_count": 32,
   "metadata": {},
   "outputs": [
    {
     "name": "stdout",
     "output_type": "stream",
     "text": [
      "MSE: 1.971\n"
     ]
    }
   ],
   "source": [
    "from pandas import read_csv\n",
    "from sklearn.model_selection import train_test_split\n",
    "from sklearn.neural_network import MLPRegressor\n",
    "from sklearn.metrics import mean_squared_error\n",
    "\n",
    "# Load the dataset\n",
    "filename = 'Advertising Budget and Sales.csv'\n",
    "dataframe = read_csv(filename)\n",
    "array = dataframe.values\n",
    "X = array[:, 0:4]\n",
    "Y = array[:, 4]\n",
    "\n",
    "# Split the dataset into an 80:20 train-test split\n",
    "test_size = 0.2\n",
    "seed = 42  # Random seed for reproducibility\n",
    "X_train, X_test, Y_train, Y_test = train_test_split(X, Y, test_size=test_size, random_state=seed)\n",
    "\n",
    "# Create and train the MLP regression model\n",
    "mlp_model = MLPRegressor(hidden_layer_sizes=(100, 100), max_iter=1000, random_state=seed)\n",
    "mlp_model.fit(X_train, Y_train)\n",
    "\n",
    "# Make predictions on the test data\n",
    "Y_pred = mlp_model.predict(X_test)\n",
    "\n",
    "# Calculate the mean squared error on the test set\n",
    "mlp_mse = mean_squared_error(Y_test, Y_pred)\n",
    "print(\"MSE: %.3f\" % mlp_mse)"
   ]
  },
  {
   "cell_type": "markdown",
   "metadata": {},
   "source": [
    "#### 9. Random Forest\n",
    "- Resampling Technique: Split into Train and Test Sets \n",
    "- Regression Metric: MSE (Mean Squared Error)"
   ]
  },
  {
   "cell_type": "code",
   "execution_count": 33,
   "metadata": {},
   "outputs": [
    {
     "name": "stdout",
     "output_type": "stream",
     "text": [
      "MSE: 0.677\n"
     ]
    }
   ],
   "source": [
    "from pandas import read_csv\n",
    "from sklearn.model_selection import train_test_split\n",
    "from sklearn.ensemble import RandomForestRegressor\n",
    "from sklearn.metrics import mean_squared_error\n",
    "\n",
    "# Load the dataset\n",
    "filename = 'Advertising Budget and Sales.csv'\n",
    "dataframe = read_csv(filename)\n",
    "array = dataframe.values\n",
    "X = array[:, 0:4]\n",
    "Y = array[:, 4]\n",
    "\n",
    "# Split the dataset into an 80:20 train-test split\n",
    "test_size = 0.2\n",
    "seed = 42  # Random seed for reproducibility\n",
    "X_train, X_test, Y_train, Y_test = train_test_split(X, Y, test_size=test_size, random_state=seed)\n",
    "\n",
    "# Create and train the Random Forest regression model\n",
    "rf_model = RandomForestRegressor(n_estimators=100, random_state=seed)\n",
    "rf_model.fit(X_train, Y_train)\n",
    "\n",
    "# Make predictions on the test data\n",
    "Y_pred = rf_model.predict(X_test)\n",
    "\n",
    "# Calculate the mean squared error on the test set\n",
    "rf_mse = mean_squared_error(Y_test, Y_pred)\n",
    "print(\"MSE: %.3f\" % rf_mse)"
   ]
  },
  {
   "cell_type": "markdown",
   "metadata": {},
   "source": [
    "### Models Comparison (Visualization)"
   ]
  },
  {
   "cell_type": "code",
   "execution_count": 34,
   "metadata": {},
   "outputs": [
    {
     "data": {
      "image/png": "[encoded data removed]",
      "text/plain": [
       "<Figure size 1000x600 with 1 Axes>"
      ]
     },
     "metadata": {},
     "output_type": "display_data"
    }
   ],
   "source": [
    "import matplotlib.pyplot as plt\n",
    "\n",
    "mae_results = [mse, \n",
    "               en_mse, \n",
    "               ada_mse, \n",
    "               knn_mse, \n",
    "               lasso_mse, \n",
    "               rdg_mse, \n",
    "               linear_mse, \n",
    "               mlp_mse, \n",
    "               rf_mse]\n",
    "model_names = [\n",
    "    \"CART (Classification and Regression Trees)\",\n",
    "    \"Elastic Net\",\n",
    "    \"Gradient Boosting Machines (AdaBoost)\",\n",
    "    \"K-Nearest Neighbors (K-NN)\",\n",
    "    \"Lasso Regression\",\n",
    "    \"Ridge Regression\",\n",
    "    \"Linear Regression\",\n",
    "    \"Multi-Layer Perceptron (MLP)\",\n",
    "    \"Random Forest\"\n",
    "]\n",
    "\n",
    "# Create a bar chart to visualize MAE results\n",
    "plt.figure(figsize=(10, 6))\n",
    "plt.bar(model_names, mae_results, color='blue')\n",
    "plt.xlabel('Machine Learning Models')\n",
    "plt.ylabel('Mean Squared Error (MSE)')\n",
    "plt.title('MSE Comparison of Different Models')\n",
    "plt.xticks(rotation=45, ha='right')\n",
    "\n",
    "# Show the bar chart\n",
    "plt.tight_layout()\n",
    "plt.show()"
   ]
  },
  {
   "cell_type": "markdown",
   "metadata": {},
   "source": [
    "## Hyperparameter Tuning"
   ]
  },
  {
   "cell_type": "markdown",
   "metadata": {},
   "source": [
    "#### ML Algorithm 1: CART (Classification and Regression Trees)\n",
    "- Resampling Technique: Split into Train and Test Sets \n",
    "- Regression Metric:  MSE (Mean Squared Error) "
   ]
  },
  {
   "cell_type": "code",
   "execution_count": 35,
   "metadata": {},
   "outputs": [
    {
     "name": "stdout",
     "output_type": "stream",
     "text": [
      "Model 1 - MSE: 1.873\n",
      "Model 2 - MSE: 2.734\n",
      "Model 3 - MSE: 1.661\n"
     ]
    }
   ],
   "source": [
    "from pandas import read_csv\n",
    "from sklearn.model_selection import train_test_split\n",
    "from sklearn.tree import DecisionTreeRegressor\n",
    "from sklearn.metrics import mean_squared_error\n",
    "\n",
    "# Load the dataset\n",
    "filename = 'Advertising Budget and Sales.csv'\n",
    "dataframe = read_csv(filename)\n",
    "array = dataframe.values\n",
    "X = array[:, 0:4]\n",
    "Y = array[:, 4]\n",
    "\n",
    "# Split the dataset into an 80:20 train-test split\n",
    "test_size = 0.2\n",
    "\n",
    "X_train, X_test, Y_train, Y_test = train_test_split(X, Y, test_size=test_size, random_state=42)\n",
    "\n",
    "# Create three Decision Tree Regressor models with different hyperparameters\n",
    "model_1 = DecisionTreeRegressor(max_depth=None, min_samples_split=2, min_samples_leaf=1, random_state=None)\n",
    "model_2 = DecisionTreeRegressor(max_depth=5, min_samples_split=2, min_samples_leaf=2, random_state=42)\n",
    "model_3 = DecisionTreeRegressor(max_depth=10, min_samples_split=5, min_samples_leaf=4, random_state=123)\n",
    "\n",
    "# Fit and evaluate each model\n",
    "models = [model_1, model_2, model_3]\n",
    "for i, model in enumerate(models):\n",
    "    model.fit(X_train, Y_train)\n",
    "    Y_pred = model.predict(X_test)\n",
    "    mse = mean_squared_error(Y_test, Y_pred)\n",
    "    print(f\"Model {i+1} - MSE: {mse:.3f}\")"
   ]
  },
  {
   "cell_type": "markdown",
   "metadata": {},
   "source": [
    "#### ML Algorithm 2: Elastic Net \n",
    "- Resampling Technique: K-fold Cross Validation\n",
    "- Regression Metric: MAE (Mean Absolute Error)"
   ]
  },
  {
   "cell_type": "code",
   "execution_count": 36,
   "metadata": {},
   "outputs": [
    {
     "name": "stdout",
     "output_type": "stream",
     "text": [
      "Model 1 Hyperparameters: {'alpha': 0.1, 'l1_ratio': 0.5, 'max_iter': 1000, 'random_state': None}\n",
      "Model 1 MAE: 1.321\n",
      "\n",
      "Model 2 Hyperparameters: {'alpha': 0.5, 'l1_ratio': 0.5, 'max_iter': 1000, 'random_state': 42}\n",
      "Model 2 MAE: 1.319\n",
      "\n",
      "Model 3 Hyperparameters: {'alpha': 1.0, 'l1_ratio': 0.5, 'max_iter': 1000, 'random_state': 123}\n",
      "Model 3 MAE: 1.316\n",
      "\n"
     ]
    }
   ],
   "source": [
    "from pandas import read_csv\n",
    "from sklearn.model_selection import KFold\n",
    "from sklearn.model_selection import cross_val_score\n",
    "from sklearn.linear_model import ElasticNet\n",
    "\n",
    "# Load the dataset\n",
    "filename = 'Advertising Budget and Sales.csv'\n",
    "dataframe = read_csv(filename)\n",
    "array = dataframe.values\n",
    "X = array[:, 0:4]\n",
    "Y = array[:, 4]\n",
    "\n",
    "# Split the dataset into a 10-fold cross-validation\n",
    "kfold = KFold(n_splits=10, random_state=None)\n",
    "\n",
    "# Define three sets of hyperparameters\n",
    "hyperparameters = [\n",
    "    {\"alpha\": 0.1, \"l1_ratio\": 0.5, \"max_iter\": 1000, \"random_state\": None},\n",
    "    {\"alpha\": 0.5, \"l1_ratio\": 0.5, \"max_iter\": 1000, \"random_state\": 42},\n",
    "    {\"alpha\": 1.0, \"l1_ratio\": 0.5, \"max_iter\": 1000, \"random_state\": 123}\n",
    "]\n",
    "\n",
    "for i, params in enumerate(hyperparameters):\n",
    "    model = ElasticNet(**params)\n",
    "\n",
    "    # Calculate the mean absolute error\n",
    "    scoring = 'neg_mean_absolute_error'\n",
    "    e_results = cross_val_score(model, X, Y, cv=kfold, scoring=scoring)\n",
    "    mae = -e_results.mean()\n",
    "    \n",
    "    print(f\"Model {i + 1} Hyperparameters: {params}\")\n",
    "    print(f\"Model {i + 1} MAE: {mae:.3f}\\n\")\n"
   ]
  },
  {
   "cell_type": "markdown",
   "metadata": {},
   "source": [
    "#### ML Algorithm 3: K-Nearest Neighbors (K-NN) \n",
    "- Resampling Technique: K-fold Cross Validation\n",
    "- Regression Metric: MAE (Mean Absolute Error)"
   ]
  },
  {
   "cell_type": "code",
   "execution_count": 37,
   "metadata": {},
   "outputs": [
    {
     "name": "stdout",
     "output_type": "stream",
     "text": [
      "K-NN MAE with Hyperparameters {'n_neighbors': 5, 'weights': 'uniform', 'algorithm': 'auto'} : 1.864 (0.247)\n",
      "K-NN MAE with Hyperparameters {'n_neighbors': 10, 'weights': 'uniform', 'algorithm': 'ball_tree'} : 2.100 (0.378)\n",
      "K-NN MAE with Hyperparameters {'n_neighbors': 5, 'weights': 'distance', 'algorithm': 'brute'} : 1.774 (0.213)\n"
     ]
    }
   ],
   "source": [
    "from pandas import read_csv\n",
    "from sklearn.model_selection import KFold\n",
    "from sklearn.model_selection import cross_val_score\n",
    "from sklearn.neighbors import KNeighborsRegressor\n",
    "\n",
    "# Load the dataset\n",
    "filename = 'Advertising Budget and Sales.csv'\n",
    "dataframe = read_csv(filename)\n",
    "array = dataframe.values\n",
    "X = array[:, 0:4]\n",
    "Y = array[:, 4]\n",
    "\n",
    "# Split the dataset into a 10-fold cross-validation\n",
    "kfold = KFold(n_splits=10, random_state=None)\n",
    "\n",
    "# Hyperparameter tuning\n",
    "# You can try different values for n_neighbors, weights, and algorithm\n",
    "hyperparameters = [\n",
    "    {'n_neighbors': 5, 'weights': 'uniform', 'algorithm': 'auto'},\n",
    "    {'n_neighbors': 10, 'weights': 'uniform', 'algorithm': 'ball_tree'},\n",
    "    {'n_neighbors': 5, 'weights': 'distance', 'algorithm': 'brute'},\n",
    "    # Add more hyperparameter combinations as needed\n",
    "]\n",
    "\n",
    "for params in hyperparameters:\n",
    "    knn_model = KNeighborsRegressor(**params)\n",
    "    \n",
    "    # Calculate the mean absolute error with K-NN\n",
    "    scoring = 'neg_mean_absolute_error'\n",
    "    knn_results = cross_val_score(knn_model, X, Y, cv=kfold, scoring=scoring)\n",
    "    print(\"K-NN MAE with Hyperparameters\", params, \": %.3f (%.3f)\" % (-knn_results.mean(), knn_results.std()))\n"
   ]
  }
 ],
 "metadata": {
  "kernelspec": {
   "display_name": "Python 3",
   "language": "python",
   "name": "python3"
  },
  "language_info": {
   "codemirror_mode": {
    "name": "ipython",
    "version": 3
   },
   "file_extension": ".py",
   "mimetype": "text/x-python",
   "name": "python",
   "nbconvert_exporter": "python",
   "pygments_lexer": "ipython3",
   "version": "3.12.0"
  }
 },
 "nbformat": 4,
 "nbformat_minor": 2
}
