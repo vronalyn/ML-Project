{
 "cells": [
  {
   "cell_type": "code",
   "execution_count": 2,
   "metadata": {},
   "outputs": [],
   "source": [
    "import pandas as pd"
   ]
  },
  {
   "cell_type": "markdown",
   "metadata": {},
   "source": [
    "## Import Data"
   ]
  },
  {
   "cell_type": "code",
   "execution_count": null,
   "metadata": {},
   "outputs": [],
   "source": [
    "data = pd.read_csv('MLproject/datasets/water_potability.csv')"
   ]
  },
  {
   "cell_type": "markdown",
   "metadata": {},
   "source": [
    "## Basic Data Analysis"
   ]
  },
  {
   "cell_type": "code",
   "execution_count": null,
   "metadata": {},
   "outputs": [],
   "source": [
    "data.head()"
   ]
  },
  {
   "cell_type": "code",
   "execution_count": null,
   "metadata": {},
   "outputs": [],
   "source": [
    "data.info()"
   ]
  },
  {
   "cell_type": "code",
   "execution_count": null,
   "metadata": {},
   "outputs": [],
   "source": [
    "data.isna().sum()"
   ]
  },
  {
   "cell_type": "code",
   "execution_count": null,
   "metadata": {},
   "outputs": [],
   "source": [
    "data.shape"
   ]
  },
  {
   "cell_type": "code",
   "execution_count": null,
   "metadata": {},
   "outputs": [],
   "source": [
    "data.describe()"
   ]
  },
  {
   "cell_type": "markdown",
   "metadata": {},
   "source": [
    "## Data Preprocessing"
   ]
  },
  {
   "cell_type": "markdown",
   "metadata": {},
   "source": [
    "Handling missing data"
   ]
  },
  {
   "cell_type": "code",
   "execution_count": null,
   "metadata": {},
   "outputs": [],
   "source": [
    "from sklearn.impute import KNNImputer\n",
    "\n",
    "knn_imputer = KNNImputer(n_neighbors=3)\n",
    "clean_data = knn_imputer.fit_transform(data)\n",
    "data = pd.DataFrame(clean_data, columns = data.columns)\n",
    "data_copy = data.copy()"
   ]
  },
  {
   "cell_type": "code",
   "execution_count": null,
   "metadata": {},
   "outputs": [],
   "source": [
    "data.isna().sum()"
   ]
  },
  {
   "cell_type": "code",
   "execution_count": null,
   "metadata": {},
   "outputs": [],
   "source": [
    "data.head()"
   ]
  },
  {
   "cell_type": "markdown",
   "metadata": {},
   "source": [
    "## Machine Learning Algorithms"
   ]
  },
  {
   "cell_type": "code",
   "execution_count": null,
   "metadata": {},
   "outputs": [],
   "source": []
  },
  {
   "cell_type": "code",
   "execution_count": null,
   "metadata": {},
   "outputs": [],
   "source": [
    "from sklearn.model_selection import train_test_split\n",
    "from sklearn.tree import DecisionTreeClassifier\n",
    "from sklearn.naive_bayes import GaussianNB\n",
    "from sklearn.ensemble import AdaBoostClassifier, RandomForestClassifier, GradientBoostingClassifier\n",
    "from sklearn.neighbors import KNeighborsClassifier\n",
    "from sklearn.linear_model import LogisticRegression, Perceptron\n",
    "from sklearn.neural_network import MLPClassifier\n",
    "from sklearn.metrics import accuracy_score\n",
    "import matplotlib.pyplot as plt\n",
    "import seaborn as sns"
   ]
  },
  {
   "cell_type": "code",
   "execution_count": null,
   "metadata": {},
   "outputs": [],
   "source": [
    "# x = data.drop(columns = 'Potability')\n",
    "X = data.drop('Potability', axis=1)\n",
    "X.head()"
   ]
  },
  {
   "cell_type": "code",
   "execution_count": null,
   "metadata": {},
   "outputs": [],
   "source": [
    "y = data['Potability']\n",
    "y.head()"
   ]
  },
  {
   "cell_type": "code",
   "execution_count": null,
   "metadata": {},
   "outputs": [],
   "source": [
    "# models = [\n",
    "#     ('CART', DecisionTreeClassifier()),\n",
    "#     ('Gaussian Naive Bayes', GaussianNB()),\n",
    "#     ('Gradient Boosting', GradientBoostingClassifier()),\n",
    "#     ('KNN', KNeighborsClassifier()),\n",
    "#     ('Logistic Regression', LogisticRegression()),\n",
    "#     ('MLP', MLPClassifier()),\n",
    "#     ('Perceptron', Perceptron()),\n",
    "#     ('Random Forest', RandomForestClassifier())\n",
    "# ]\n",
    "\n",
    "# # Train and evaluate models\n",
    "# accuracy_scores = []\n",
    "# model_names = []\n",
    "\n",
    "# for name, model in models:\n",
    "#     model.fit(X_train, y_train)  # Train the model\n",
    "#     y_pred = model.predict(X_test)  # Make predictions\n",
    "#     acc = accuracy_score(y_test, y_pred)  # Calculate accuracy\n",
    "#     accuracy_percentage = acc * 100\n",
    "#     accuracy_scores.append(accuracy_percentage)\n",
    "#     model_names.append(name)\n",
    "#     print(f'{name} Accuracy: {accuracy_percentage:.2f}%')\n"
   ]
  },
  {
   "cell_type": "code",
   "execution_count": null,
   "metadata": {},
   "outputs": [],
   "source": [
    "size = 0.10\n",
    "seed = 123\n",
    "\n",
    "X_train, X_test, y_train, y_test = train_test_split(X, y, test_size=size, random_state=seed)\n",
    "\n",
    "\n",
    "# Train and print accuracy scores for each model\n",
    "# CART\n",
    "cart_model = DecisionTreeClassifier()\n",
    "cart_model.fit(X_train, y_train)\n",
    "cart_model_result = cart_model.score(X_test, y_test)\n",
    "print(\"CART Accuracy: %.3f%%\" % (cart_model_result * 100.0))\n",
    "\n",
    "# Gaussian Naive Bayes\n",
    "gnb_model = GaussianNB()\n",
    "gnb_model.fit(X_train, y_train)\n",
    "gnb_model_result = gnb_model.score(X_test, y_test)\n",
    "print(\"Gaussian Naive Bayes Accuracy: %.3f%%\" % (gnb_model_result * 100.0))\n",
    "\n",
    "# Gradient Boosting (AdaBoost)\n",
    "gb_model = GradientBoostingClassifier()\n",
    "gb_model.fit(X_train, y_train)\n",
    "gb_model_result = gb_model.score(X_test, y_test)\n",
    "print(\"Gradient Boosting Accuracy: %.3f%%\" % (gb_model_result * 100.0))\n",
    "\n",
    "# KNN\n",
    "knn_model = KNeighborsClassifier(n_neighbors=5, weights='uniform', algorithm='auto')\n",
    "knn_model.fit(X_train, y_train)\n",
    "knn_model_result = knn_model.score(X_test, y_test)\n",
    "print(\"KNN Accuracy: %.3f%%\" % (knn_model_result * 100.0))\n",
    "\n",
    "# Logistic Regression\n",
    "lr_model = LogisticRegression(max_iter=200, solver='lbfgs', C=1.0)\n",
    "lr_model.fit(X_train, y_train)\n",
    "lr_model_result = lr_model.score(X_test, y_test)\n",
    "print(\"Logistic Regression Accuracy: %.3f%%\" % (lr_model_result * 100.0))\n",
    "\n",
    "# MLP\n",
    "mlp_model = MLPClassifier(hidden_layer_sizes=(65, 32), \n",
    "                          activation='relu', \n",
    "                          solver='adam', max_iter=200, random_state=seed)\n",
    "mlp_model.fit(X_train, y_train)\n",
    "mlp_model_result = mlp_model.score(X_test, y_test)\n",
    "print(\"MLP Accuracy: %.3f%%\" % (mlp_model_result * 100.0))\n",
    "\n",
    "#Perceptron\n",
    "p_model = Perceptron(max_iter=200, random_state=seed, eta0=1.0, tol=1e-3)\n",
    "p_model.fit(X_train, y_train)\n",
    "\n",
    "pmodel_result = p_model.score(X_test, y_test)\n",
    "print(\"Perceptron Accuracy: %.3f%%\" % (pmodel_result * 100.0))\n",
    "\n",
    "#Random Forest\n",
    "rfmodel = RandomForestClassifier(n_estimators=100, \n",
    "                                 random_state=seed, \n",
    "                                 max_depth=None, \n",
    "                                 min_samples_split=2, \n",
    "                                 min_samples_leaf=1)\n",
    "rfmodel.fit(X_train, y_train)\n",
    "\n",
    "rfmodel_result = rfmodel.score(X_test, y_test)\n",
    "print(\"Random Forest Accuracy: %.3f%%\" % (rfmodel_result * 100.0))\n",
    "\n"
   ]
  },
  {
   "cell_type": "code",
   "execution_count": null,
   "metadata": {},
   "outputs": [],
   "source": [
    "\n",
    "# List of model names\n",
    "model_names = [\n",
    "    \"CART\",\n",
    "    \"Gaussian Naive Bayes\",\n",
    "    \"Gradient Boosting Machines (AdaBoost)\",\n",
    "    \"K-Nearest Neighbors (K-NN)\",\n",
    "    \"Logistic Regression\",\n",
    "    \"Multi-Layer Perceptron (MLP)\",\n",
    "    \"Perceptron\",\n",
    "    \"Random Forest\"\n",
    "]\n",
    "\n",
    "# List of accuracy scores corresponding to each model name\n",
    "accuracy_scores = [\n",
    "    cart_model_result,\n",
    "    gnb_model_result,\n",
    "    gb_model_result,\n",
    "    knn_model_result,\n",
    "    lr_model_result,\n",
    "    mlp_model_result,\n",
    "    pmodel_result,\n",
    "    rfmodel_result\n",
    "]\n",
    "\n",
    "sns.set(style=\"whitegrid\")\n",
    "plt.figure(figsize=(10, 6))\n",
    "ax = sns.barplot(x=accuracy_scores, y=model_names, hue=model_names, palette=\"viridis\", dodge=False, legend=False)\n",
    "ax.set_title('Accuracy Comparison of Different Models')\n",
    "ax.set_xlabel('Accuracy (%)')\n",
    "ax.set_ylabel('Model')\n",
    "plt.show()"
   ]
  },
  {
   "cell_type": "code",
   "execution_count": null,
   "metadata": {},
   "outputs": [],
   "source": [
    "import joblib"
   ]
  },
  {
   "cell_type": "code",
   "execution_count": null,
   "metadata": {},
   "outputs": [],
   "source": [
    "model_filename = 'MLproject/datasets/models/random_forest_model.joblib'\n",
    "joblib.dump(rfmodel, model_filename)"
   ]
  },
  {
   "cell_type": "code",
   "execution_count": null,
   "metadata": {},
   "outputs": [],
   "source": [
    "# Load the saved Random Forest model\n",
    "loaded_model = joblib.load(model_filename)\n",
    "\n",
    "feature_names = ['ph', 'Hardness', 'Solids', 'Chloramines', 'Sulfate', 'Conductivity', 'Organic_carbon', 'Trihalomethanes', 'Turbidity']\n",
    "X_with_features = pd.DataFrame([[7.0, 200, 300, 10.0, 50.0, 400, 5.0, 60.0, 4.0]], columns=feature_names)\n",
    "\n",
    "# Make predictions using the loaded model\n",
    "predicted_potability = loaded_model.predict(X_with_features)\n",
    "\n",
    "# Define messages based on the predicted class\n",
    "if predicted_potability == 0:\n",
    "    message = \"The water sample is predicted to be non-potable.\"\n",
    "elif predicted_potability == 1:\n",
    "    message = \"The water sample is predicted to be potable.\"\n",
    "else:\n",
    "    message = \"Invalid prediction.\"\n",
    "\n",
    "print(message)"
   ]
  }
 ],
 "metadata": {
  "kernelspec": {
   "display_name": ".venv",
   "language": "python",
   "name": "python3"
  },
  "language_info": {
   "codemirror_mode": {
    "name": "ipython",
    "version": 3
   },
   "file_extension": ".py",
   "mimetype": "text/x-python",
   "name": "python",
   "nbconvert_exporter": "python",
   "pygments_lexer": "ipython3",
   "version": "3.10.0"
  }
 },
 "nbformat": 4,
 "nbformat_minor": 2
}
